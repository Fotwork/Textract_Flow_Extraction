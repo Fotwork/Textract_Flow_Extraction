{
 "cells": [
  {
   "cell_type": "code",
   "execution_count": 1,
   "metadata": {},
   "outputs": [],
   "source": [
    "import boto3\n",
    "import matplotlib.pyplot as plt\n",
    "import pandas as pd\n",
    "import preprocess as pp\n",
    "import eval as ev"
   ]
  },
  {
   "cell_type": "markdown",
   "metadata": {},
   "source": [
    "**Model Construction**"
   ]
  },
  {
   "cell_type": "code",
   "execution_count": 2,
   "metadata": {},
   "outputs": [
    {
     "name": "stdout",
     "output_type": "stream",
     "text": [
      "Processing Weird_invoices_images/Barely-visible-numérisation_page_1.png...\n",
      "Processing Weird_invoices_images/Comment-after-item-Facture_48573835_page_1.png...\n",
      "Processing Weird_invoices_images/Logo-in-the-middle-Facture-N-24000397_page_1.png...\n",
      "Processing Weird_invoices_images/Logo-in-the-middle-SIGNED_fact_amb_01044700_page_1.png...\n",
      "Processing Weird_invoices_images/Logo-in-the-middle-SIGNED_fact_amb_01044700_page_2.png...\n",
      "Processing Weird_invoices_images/Logo-in-the-middle-SIGNED_fact_amb_01044700_page_3.png...\n",
      "Processing Weird_invoices_images/Mixed-IMG_3307_page_1.png...\n",
      "Processing Weird_invoices_images/Not-straight-Adobe_Scan_17_juil_2024_page_1.png...\n",
      "Processing Weird_invoices_images/Scanned-bad-font-0690_001_page_1.png...\n",
      "Processing Weird_invoices_images/Scanned-bad-font-0690_001_page_2.png...\n",
      "Processing Weird_invoices_images/Text-at-the-edge-3RDAFACTURW0000678049202407139081320705_page_1.png...\n",
      "Processing Weird_invoices_images/Text-at-the-edge-3RDAFACTURW0000678049202407139081320705_page_2.png...\n"
     ]
    }
   ],
   "source": [
    "s3_bucket_name = 'textract-intern'  # Replace 'textract-intern' with your bucket name\n",
    "folders = ['Weird_invoices']  # Replace 'Weird_invoices' with the names of the folders you want to process\n",
    "\n",
    "textractmodule = boto3.client('textract')\n",
    "s3 = boto3.client('s3')\n",
    "\n",
    "def extract_text_from_image(bucket, document):\n",
    "    response = textractmodule.detect_document_text(\n",
    "        Document={\n",
    "            'S3Object': {\n",
    "                'Bucket': bucket,\n",
    "                'Name': document\n",
    "            }\n",
    "        })\n",
    "    lines = []\n",
    "    for item in response[\"Blocks\"]:\n",
    "        if item[\"BlockType\"] == \"LINE\":\n",
    "            lines.append(item[\"Text\"])\n",
    "    return lines\n",
    "\n",
    "all_lines = []\n",
    "\n",
    "for folder_name in folders:\n",
    "    response = s3.list_objects_v2(Bucket=s3_bucket_name, Prefix=folder_name)\n",
    "\n",
    "    if 'Contents' in response:\n",
    "        for obj in response['Contents']:\n",
    "            document_name = obj['Key']\n",
    "            if document_name.endswith('.png'): \n",
    "                print(f'Processing {document_name}...')\n",
    "                lines = extract_text_from_image(s3_bucket_name, document_name)\n",
    "                all_lines.extend(lines)"
   ]
  },
  {
   "cell_type": "markdown",
   "metadata": {},
   "source": [
    "**Preprocess text extracted**"
   ]
  },
  {
   "cell_type": "code",
   "execution_count": 8,
   "metadata": {},
   "outputs": [],
   "source": [
    "all_lines = pp.normalize_lines(all_lines)"
   ]
  },
  {
   "cell_type": "markdown",
   "metadata": {},
   "source": [
    "**Read product database**"
   ]
  },
  {
   "cell_type": "code",
   "execution_count": 2,
   "metadata": {},
   "outputs": [],
   "source": [
    "file_path = 'Data/real_images/Products.xlsm'  # Replace with your actual file path\n",
    "sheet_name = 'Base_de_Donnees' #Specify the sheet of database\n",
    "\n",
    "data = pd.read_excel(file_path, sheet_name=sheet_name, usecols='F', skiprows=3, nrows=30659)\n",
    "\n",
    "liste_produits = data['Designation'].tolist()"
   ]
  },
  {
   "cell_type": "markdown",
   "metadata": {},
   "source": [
    "**Preprocess database**"
   ]
  },
  {
   "cell_type": "code",
   "execution_count": 3,
   "metadata": {},
   "outputs": [],
   "source": [
    "liste_produits = [pp.normalize_text(produit) for produit in liste_produits]"
   ]
  },
  {
   "cell_type": "markdown",
   "metadata": {},
   "source": [
    "**Model Evaluation**"
   ]
  },
  {
   "cell_type": "code",
   "execution_count": null,
   "metadata": {},
   "outputs": [],
   "source": [
    "count_exact_matches, count_01, count_02 = ev.count_matches(all_lines, liste_produits)\n",
    "\n",
    "print('Exact matches:', count_exact_matches)\n",
    "print('Normalized Levenshtein distance ≤ 0.1:', count_01)\n",
    "print('Normalized Levenshtein distance ≤ 0.2:', count_02)"
   ]
  },
  {
   "cell_type": "code",
   "execution_count": null,
   "metadata": {},
   "outputs": [],
   "source": [
    "#Generating plot\n",
    "categories = ['0', ']0 ; 0.1]', ']0.1 ; 0.2]', '>0.2']\n",
    "total_products = 1600  # Replace with the actual total number of products\n",
    "count_sup02 = total_products - (count_exact_matches + count_01 + count_02)\n",
    "values = [count_exact_matches, count_01, count_02, count_sup02] \n",
    "\n",
    "proportions = [v / total_products * 100 for v in values]\n",
    "\n",
    "fig, ax = plt.subplots()\n",
    "\n",
    "bars = ax.bar(categories, values, color=['skyblue', 'lightgreen', 'salmon'])\n",
    "\n",
    "for bar, proportion in zip(bars, proportions):\n",
    "    height = bar.get_height()\n",
    "    ax.text(bar.get_x() + bar.get_width() / 2.0, height, f'{proportion:.1f}%', \n",
    "            ha='center', va='bottom')\n",
    "\n",
    "ax.set_title('OCR Performances Distribution')\n",
    "ax.set_xlabel('Normalized Levenshtein Distance')\n",
    "ax.set_ylabel('Number of Products')\n",
    "\n",
    "plt.show()"
   ]
  }
 ],
 "metadata": {
  "kernelspec": {
   "display_name": "myEmv",
   "language": "python",
   "name": "python3"
  },
  "language_info": {
   "codemirror_mode": {
    "name": "ipython",
    "version": 3
   },
   "file_extension": ".py",
   "mimetype": "text/x-python",
   "name": "python",
   "nbconvert_exporter": "python",
   "pygments_lexer": "ipython3",
   "version": "3.11.5"
  }
 },
 "nbformat": 4,
 "nbformat_minor": 2
}
